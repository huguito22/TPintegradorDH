{
 "cells": [
  {
   "cell_type": "code",
   "execution_count": 13,
   "id": "cef4cee3",
   "metadata": {},
   "outputs": [],
   "source": [
    "import pandas as pd\n",
    "import numpy as np\n",
    "import re\n",
    "import plotly.express as px\n",
    "import seaborn as sns\n",
    "import matplotlib.pyplot as plt\n",
    "import warnings\n",
    "warnings.filterwarnings('ignore')"
   ]
  },
  {
   "cell_type": "code",
   "execution_count": 14,
   "id": "44bbcb8d",
   "metadata": {},
   "outputs": [],
   "source": [
    "data = pd.read_csv('data_caba.csv')\n",
    "\n",
    "pd.options.display.max_columns = None"
   ]
  },
  {
   "cell_type": "code",
   "execution_count": 15,
   "id": "383ebc95",
   "metadata": {},
   "outputs": [
    {
     "data": {
      "text/plain": [
       "[50, 100)        10432\n",
       "[0, 50)          10359\n",
       "[100, 300000)     8193\n",
       "Name: surface_total_in_m2, dtype: int64"
      ]
     },
     "execution_count": 15,
     "metadata": {},
     "output_type": "execute_result"
    }
   ],
   "source": [
    "# Creamos rangos de m2 con un pd.cut para falicitar el análisis de los tipos de propiedades\n",
    "\n",
    "bins = [0,50,100,300000]\n",
    "cuantil = pd.cut(data['surface_total_in_m2'], bins, right=False)\n",
    "cuantil.value_counts()"
   ]
  },
  {
   "cell_type": "code",
   "execution_count": 16,
   "id": "c7b5c764",
   "metadata": {},
   "outputs": [
    {
     "data": {
      "text/html": [
       "<div>\n",
       "<style scoped>\n",
       "    .dataframe tbody tr th:only-of-type {\n",
       "        vertical-align: middle;\n",
       "    }\n",
       "\n",
       "    .dataframe tbody tr th {\n",
       "        vertical-align: top;\n",
       "    }\n",
       "\n",
       "    .dataframe thead th {\n",
       "        text-align: right;\n",
       "    }\n",
       "</style>\n",
       "<table border=\"1\" class=\"dataframe\">\n",
       "  <thead>\n",
       "    <tr style=\"text-align: right;\">\n",
       "      <th></th>\n",
       "      <th></th>\n",
       "      <th>price_usd_per_m2</th>\n",
       "      <th>price_aprox_usd</th>\n",
       "    </tr>\n",
       "    <tr>\n",
       "      <th>property_type</th>\n",
       "      <th>surface_total_in_m2</th>\n",
       "      <th></th>\n",
       "      <th></th>\n",
       "    </tr>\n",
       "  </thead>\n",
       "  <tbody>\n",
       "    <tr>\n",
       "      <th rowspan=\"3\" valign=\"top\">PH</th>\n",
       "      <th>[0, 50)</th>\n",
       "      <td>2462.22</td>\n",
       "      <td>101316.32</td>\n",
       "    </tr>\n",
       "    <tr>\n",
       "      <th>[50, 100)</th>\n",
       "      <td>1932.93</td>\n",
       "      <td>141754.90</td>\n",
       "    </tr>\n",
       "    <tr>\n",
       "      <th>[100, 300000)</th>\n",
       "      <td>1418.86</td>\n",
       "      <td>252918.96</td>\n",
       "    </tr>\n",
       "    <tr>\n",
       "      <th rowspan=\"3\" valign=\"top\">apartment</th>\n",
       "      <th>[0, 50)</th>\n",
       "      <td>4048.39</td>\n",
       "      <td>136986.27</td>\n",
       "    </tr>\n",
       "    <tr>\n",
       "      <th>[50, 100)</th>\n",
       "      <td>2652.35</td>\n",
       "      <td>180648.64</td>\n",
       "    </tr>\n",
       "    <tr>\n",
       "      <th>[100, 300000)</th>\n",
       "      <td>3208.24</td>\n",
       "      <td>574940.96</td>\n",
       "    </tr>\n",
       "    <tr>\n",
       "      <th rowspan=\"3\" valign=\"top\">house</th>\n",
       "      <th>[0, 50)</th>\n",
       "      <td>8044.27</td>\n",
       "      <td>282143.82</td>\n",
       "    </tr>\n",
       "    <tr>\n",
       "      <th>[50, 100)</th>\n",
       "      <td>2442.44</td>\n",
       "      <td>187791.59</td>\n",
       "    </tr>\n",
       "    <tr>\n",
       "      <th>[100, 300000)</th>\n",
       "      <td>1388.61</td>\n",
       "      <td>527297.40</td>\n",
       "    </tr>\n",
       "    <tr>\n",
       "      <th rowspan=\"3\" valign=\"top\">store</th>\n",
       "      <th>[0, 50)</th>\n",
       "      <td>3683.79</td>\n",
       "      <td>103491.40</td>\n",
       "    </tr>\n",
       "    <tr>\n",
       "      <th>[50, 100)</th>\n",
       "      <td>3497.63</td>\n",
       "      <td>226960.34</td>\n",
       "    </tr>\n",
       "    <tr>\n",
       "      <th>[100, 300000)</th>\n",
       "      <td>2475.71</td>\n",
       "      <td>786583.74</td>\n",
       "    </tr>\n",
       "  </tbody>\n",
       "</table>\n",
       "</div>"
      ],
      "text/plain": [
       "                                   price_usd_per_m2  price_aprox_usd\n",
       "property_type surface_total_in_m2                                   \n",
       "PH            [0, 50)                       2462.22        101316.32\n",
       "              [50, 100)                     1932.93        141754.90\n",
       "              [100, 300000)                 1418.86        252918.96\n",
       "apartment     [0, 50)                       4048.39        136986.27\n",
       "              [50, 100)                     2652.35        180648.64\n",
       "              [100, 300000)                 3208.24        574940.96\n",
       "house         [0, 50)                       8044.27        282143.82\n",
       "              [50, 100)                     2442.44        187791.59\n",
       "              [100, 300000)                 1388.61        527297.40\n",
       "store         [0, 50)                       3683.79        103491.40\n",
       "              [50, 100)                     3497.63        226960.34\n",
       "              [100, 300000)                 2475.71        786583.74"
      ]
     },
     "execution_count": 16,
     "metadata": {},
     "output_type": "execute_result"
    }
   ],
   "source": [
    "pd.options.display.max_rows = None\n",
    "grp_barrio = data.groupby(['property_type',cuantil])[['price_usd_per_m2','price_aprox_usd']].mean().round(2)\n",
    "grp_barrio"
   ]
  },
  {
   "cell_type": "code",
   "execution_count": 17,
   "id": "40816c0f",
   "metadata": {},
   "outputs": [
    {
     "data": {
      "text/html": [
       "<div>\n",
       "<style scoped>\n",
       "    .dataframe tbody tr th:only-of-type {\n",
       "        vertical-align: middle;\n",
       "    }\n",
       "\n",
       "    .dataframe tbody tr th {\n",
       "        vertical-align: top;\n",
       "    }\n",
       "\n",
       "    .dataframe thead th {\n",
       "        text-align: right;\n",
       "    }\n",
       "</style>\n",
       "<table border=\"1\" class=\"dataframe\">\n",
       "  <thead>\n",
       "    <tr style=\"text-align: right;\">\n",
       "      <th></th>\n",
       "      <th>price_aprox_usd</th>\n",
       "    </tr>\n",
       "    <tr>\n",
       "      <th>place_name</th>\n",
       "      <th></th>\n",
       "    </tr>\n",
       "  </thead>\n",
       "  <tbody>\n",
       "    <tr>\n",
       "      <th>Belgrano</th>\n",
       "      <td>2532</td>\n",
       "    </tr>\n",
       "    <tr>\n",
       "      <th>Palermo</th>\n",
       "      <td>2515</td>\n",
       "    </tr>\n",
       "    <tr>\n",
       "      <th>Caballito</th>\n",
       "      <td>2055</td>\n",
       "    </tr>\n",
       "    <tr>\n",
       "      <th>Recoleta</th>\n",
       "      <td>1424</td>\n",
       "    </tr>\n",
       "    <tr>\n",
       "      <th>Villa Urquiza</th>\n",
       "      <td>1361</td>\n",
       "    </tr>\n",
       "  </tbody>\n",
       "</table>\n",
       "</div>"
      ],
      "text/plain": [
       "               price_aprox_usd\n",
       "place_name                    \n",
       "Belgrano                  2532\n",
       "Palermo                   2515\n",
       "Caballito                 2055\n",
       "Recoleta                  1424\n",
       "Villa Urquiza             1361"
      ]
     },
     "execution_count": 17,
     "metadata": {},
     "output_type": "execute_result"
    }
   ],
   "source": [
    "data.groupby(['place_name'])[['price_aprox_usd']].count().sort_values(by='price_aprox_usd',ascending=False).head()\n"
   ]
  },
  {
   "cell_type": "code",
   "execution_count": 18,
   "id": "39f464e6",
   "metadata": {},
   "outputs": [
    {
     "data": {
      "text/html": [
       "<div>\n",
       "<style scoped>\n",
       "    .dataframe tbody tr th:only-of-type {\n",
       "        vertical-align: middle;\n",
       "    }\n",
       "\n",
       "    .dataframe tbody tr th {\n",
       "        vertical-align: top;\n",
       "    }\n",
       "\n",
       "    .dataframe thead th {\n",
       "        text-align: right;\n",
       "    }\n",
       "</style>\n",
       "<table border=\"1\" class=\"dataframe\">\n",
       "  <thead>\n",
       "    <tr style=\"text-align: right;\">\n",
       "      <th></th>\n",
       "      <th>price_usd_per_m2</th>\n",
       "    </tr>\n",
       "    <tr>\n",
       "      <th>place_name</th>\n",
       "      <th></th>\n",
       "    </tr>\n",
       "  </thead>\n",
       "  <tbody>\n",
       "    <tr>\n",
       "      <th>Boedo</th>\n",
       "      <td>10697.513056</td>\n",
       "    </tr>\n",
       "    <tr>\n",
       "      <th>San Cristobal</th>\n",
       "      <td>9952.388570</td>\n",
       "    </tr>\n",
       "    <tr>\n",
       "      <th>Puerto Madero</th>\n",
       "      <td>6029.687303</td>\n",
       "    </tr>\n",
       "    <tr>\n",
       "      <th>Palermo Chico</th>\n",
       "      <td>4797.326384</td>\n",
       "    </tr>\n",
       "    <tr>\n",
       "      <th>Las Cañitas</th>\n",
       "      <td>3476.175811</td>\n",
       "    </tr>\n",
       "  </tbody>\n",
       "</table>\n",
       "</div>"
      ],
      "text/plain": [
       "               price_usd_per_m2\n",
       "place_name                     \n",
       "Boedo              10697.513056\n",
       "San Cristobal       9952.388570\n",
       "Puerto Madero       6029.687303\n",
       "Palermo Chico       4797.326384\n",
       "Las Cañitas         3476.175811"
      ]
     },
     "execution_count": 18,
     "metadata": {},
     "output_type": "execute_result"
    }
   ],
   "source": [
    "data.groupby(['place_name'])[['price_usd_per_m2']].mean().sort_values(by='price_usd_per_m2',ascending=False).head()"
   ]
  },
  {
   "cell_type": "markdown",
   "id": "553badd7",
   "metadata": {},
   "source": [
    "Trabajaremos sobre un subdata con los tipos de propiedades house, PH y apartment de la Comuna 1 de CABA"
   ]
  },
  {
   "cell_type": "code",
   "execution_count": 19,
   "id": "21377b0f",
   "metadata": {},
   "outputs": [],
   "source": [
    "# Seleccionamos los barrios de Caba pertenecientes a la Comuna 1\n",
    "\n",
    "data_comuna_1 = data[(data['place_name']=='Retiro') | (data['place_name']=='San Nicolás') | (data['place_name']=='Monserrat') | (data['place_name']== 'Puerto Madero') | (data['place_name']=='San Telmo') | (data['place_name']=='Constitución')]"
   ]
  },
  {
   "cell_type": "code",
   "execution_count": 20,
   "id": "dbd39069",
   "metadata": {},
   "outputs": [],
   "source": [
    "# Quitamos el tipo de propiedad store\n",
    "\n",
    "data_c1 = data_comuna_1[(data_comuna_1['property_type']!='store')]"
   ]
  },
  {
   "cell_type": "code",
   "execution_count": 21,
   "id": "73e27758",
   "metadata": {},
   "outputs": [
    {
     "data": {
      "text/plain": [
       "27225    1183.0\n",
       "4572     1159.0\n",
       "7128      950.0\n",
       "Name: surface_total_in_m2, dtype: float64"
      ]
     },
     "execution_count": 21,
     "metadata": {},
     "output_type": "execute_result"
    }
   ],
   "source": [
    "# Verificamos que no exista ningún outlier en los mt2\n",
    "\n",
    "data_c1['surface_total_in_m2'].sort_values(ascending=False).head(3)"
   ]
  },
  {
   "cell_type": "markdown",
   "id": "b990e360",
   "metadata": {},
   "source": [
    "## Modelo Ridge Con Tres Features\n"
   ]
  },
  {
   "cell_type": "code",
   "execution_count": 22,
   "id": "720cf2a7",
   "metadata": {},
   "outputs": [],
   "source": [
    "from sklearn import linear_model\n",
    "from sklearn.model_selection import train_test_split\n",
    "from sklearn.preprocessing import StandardScaler"
   ]
  },
  {
   "cell_type": "code",
   "execution_count": 26,
   "id": "3ead5f8b-7fe3-40da-aa59-07f98b6ca2c1",
   "metadata": {},
   "outputs": [
    {
     "data": {
      "text/html": [
       "<div>\n",
       "<style scoped>\n",
       "    .dataframe tbody tr th:only-of-type {\n",
       "        vertical-align: middle;\n",
       "    }\n",
       "\n",
       "    .dataframe tbody tr th {\n",
       "        vertical-align: top;\n",
       "    }\n",
       "\n",
       "    .dataframe thead th {\n",
       "        text-align: right;\n",
       "    }\n",
       "</style>\n",
       "<table border=\"1\" class=\"dataframe\">\n",
       "  <thead>\n",
       "    <tr style=\"text-align: right;\">\n",
       "      <th></th>\n",
       "      <th>Unnamed: 0</th>\n",
       "      <th>operation</th>\n",
       "      <th>property_type</th>\n",
       "      <th>place_name</th>\n",
       "      <th>place_with_parent_names</th>\n",
       "      <th>country_name</th>\n",
       "      <th>state_name</th>\n",
       "      <th>geonames_id</th>\n",
       "      <th>lat-lon</th>\n",
       "      <th>lat</th>\n",
       "      <th>lon</th>\n",
       "      <th>price</th>\n",
       "      <th>currency</th>\n",
       "      <th>price_aprox_local_currency</th>\n",
       "      <th>price_aprox_usd</th>\n",
       "      <th>surface_total_in_m2</th>\n",
       "      <th>surface_covered_in_m2</th>\n",
       "      <th>price_usd_per_m2</th>\n",
       "      <th>price_per_m2</th>\n",
       "      <th>floor</th>\n",
       "      <th>rooms</th>\n",
       "      <th>expenses</th>\n",
       "      <th>properati_url</th>\n",
       "      <th>description</th>\n",
       "      <th>title</th>\n",
       "      <th>image_thumbnail</th>\n",
       "      <th>TitleClean</th>\n",
       "      <th>DescriptionClean</th>\n",
       "      <th>Title_m2</th>\n",
       "      <th>SinUSD</th>\n",
       "      <th>SinUSS</th>\n",
       "      <th>Sin_m2</th>\n",
       "      <th>id</th>\n",
       "      <th>price_usd_m2_filled</th>\n",
       "      <th>price_m2_filled</th>\n",
       "      <th>mts2_completar</th>\n",
       "      <th>lat_filled</th>\n",
       "      <th>lon_filled</th>\n",
       "      <th>geometry</th>\n",
       "      <th>distancia_obelisco</th>\n",
       "      <th>surface_total_in_m2_2</th>\n",
       "    </tr>\n",
       "  </thead>\n",
       "  <tbody>\n",
       "    <tr>\n",
       "      <th>13</th>\n",
       "      <td>47</td>\n",
       "      <td>sell</td>\n",
       "      <td>house</td>\n",
       "      <td>Puerto Madero</td>\n",
       "      <td>|Argentina|Capital Federal|Puerto Madero|</td>\n",
       "      <td>Argentina</td>\n",
       "      <td>Capital Federal</td>\n",
       "      <td>3429760.0</td>\n",
       "      <td>-34.6177194,-58.3620561</td>\n",
       "      <td>-34.617719</td>\n",
       "      <td>-58.362056</td>\n",
       "      <td>70000.0</td>\n",
       "      <td>USD</td>\n",
       "      <td>1235115.00</td>\n",
       "      <td>70000.0</td>\n",
       "      <td>80.000000</td>\n",
       "      <td>50.0</td>\n",
       "      <td>875.0</td>\n",
       "      <td>1400.0</td>\n",
       "      <td>NaN</td>\n",
       "      <td>NaN</td>\n",
       "      <td>NaN</td>\n",
       "      <td>http://www.properati.com.ar/15bu1_venta_casa_p...</td>\n",
       "      <td>ESTRUCTURA ECOLOGICA FLOTANTEIDEAL PARA UBICAR...</td>\n",
       "      <td>FLOAT LIFE - CASA FLOTANTE - UBICABLE EN CLUBS...</td>\n",
       "      <td>https://thumbs4.properati.com/5/UvWlBF2qAapN1p...</td>\n",
       "      <td>NaN</td>\n",
       "      <td>NaN</td>\n",
       "      <td>NaN</td>\n",
       "      <td>NaN</td>\n",
       "      <td>NaN</td>\n",
       "      <td>NaN</td>\n",
       "      <td>13</td>\n",
       "      <td>875.000000</td>\n",
       "      <td>1400.000000</td>\n",
       "      <td>80.000000</td>\n",
       "      <td>-34.617719</td>\n",
       "      <td>-58.362056</td>\n",
       "      <td>POINT (-58.3620561 -34.6177194)</td>\n",
       "      <td>2287.930560</td>\n",
       "      <td>160.000000</td>\n",
       "    </tr>\n",
       "    <tr>\n",
       "      <th>24</th>\n",
       "      <td>97</td>\n",
       "      <td>sell</td>\n",
       "      <td>apartment</td>\n",
       "      <td>San Telmo</td>\n",
       "      <td>|Argentina|Capital Federal|San Telmo|</td>\n",
       "      <td>Argentina</td>\n",
       "      <td>Capital Federal</td>\n",
       "      <td>3428113.0</td>\n",
       "      <td>-34.6247504837,-58.3791482449</td>\n",
       "      <td>-34.624750</td>\n",
       "      <td>-58.379148</td>\n",
       "      <td>1423800.0</td>\n",
       "      <td>ARS</td>\n",
       "      <td>1408947.37</td>\n",
       "      <td>79852.0</td>\n",
       "      <td>34.462386</td>\n",
       "      <td>NaN</td>\n",
       "      <td>NaN</td>\n",
       "      <td>NaN</td>\n",
       "      <td>NaN</td>\n",
       "      <td>1.0</td>\n",
       "      <td>NaN</td>\n",
       "      <td>http://www.properati.com.ar/15cii_venta_depart...</td>\n",
       "      <td>Torre de 15 pisos con amenities ubicados en el...</td>\n",
       "      <td>VIVÍ CERCA DE TODO Av. 9 de Julio</td>\n",
       "      <td>https://thumbs4.properati.com/2/ufRxXZ9qkWC7ma...</td>\n",
       "      <td>NaN</td>\n",
       "      <td>NaN</td>\n",
       "      <td>NaN</td>\n",
       "      <td>NaN</td>\n",
       "      <td>NaN</td>\n",
       "      <td>NaN</td>\n",
       "      <td>24</td>\n",
       "      <td>2317.076969</td>\n",
       "      <td>16304.485007</td>\n",
       "      <td>34.462386</td>\n",
       "      <td>-34.624750</td>\n",
       "      <td>-58.379148</td>\n",
       "      <td>POINT (-58.37914824489999 -34.6247504837)</td>\n",
       "      <td>1161.974369</td>\n",
       "      <td>68.924771</td>\n",
       "    </tr>\n",
       "  </tbody>\n",
       "</table>\n",
       "</div>"
      ],
      "text/plain": [
       "    Unnamed: 0 operation property_type     place_name  \\\n",
       "13          47      sell         house  Puerto Madero   \n",
       "24          97      sell     apartment      San Telmo   \n",
       "\n",
       "                      place_with_parent_names country_name       state_name  \\\n",
       "13  |Argentina|Capital Federal|Puerto Madero|    Argentina  Capital Federal   \n",
       "24      |Argentina|Capital Federal|San Telmo|    Argentina  Capital Federal   \n",
       "\n",
       "    geonames_id                        lat-lon        lat        lon  \\\n",
       "13    3429760.0        -34.6177194,-58.3620561 -34.617719 -58.362056   \n",
       "24    3428113.0  -34.6247504837,-58.3791482449 -34.624750 -58.379148   \n",
       "\n",
       "        price currency  price_aprox_local_currency  price_aprox_usd  \\\n",
       "13    70000.0      USD                  1235115.00          70000.0   \n",
       "24  1423800.0      ARS                  1408947.37          79852.0   \n",
       "\n",
       "    surface_total_in_m2  surface_covered_in_m2  price_usd_per_m2  \\\n",
       "13            80.000000                   50.0             875.0   \n",
       "24            34.462386                    NaN               NaN   \n",
       "\n",
       "    price_per_m2  floor  rooms  expenses  \\\n",
       "13        1400.0    NaN    NaN       NaN   \n",
       "24           NaN    NaN    1.0       NaN   \n",
       "\n",
       "                                        properati_url  \\\n",
       "13  http://www.properati.com.ar/15bu1_venta_casa_p...   \n",
       "24  http://www.properati.com.ar/15cii_venta_depart...   \n",
       "\n",
       "                                          description  \\\n",
       "13  ESTRUCTURA ECOLOGICA FLOTANTEIDEAL PARA UBICAR...   \n",
       "24  Torre de 15 pisos con amenities ubicados en el...   \n",
       "\n",
       "                                                title  \\\n",
       "13  FLOAT LIFE - CASA FLOTANTE - UBICABLE EN CLUBS...   \n",
       "24                  VIVÍ CERCA DE TODO Av. 9 de Julio   \n",
       "\n",
       "                                      image_thumbnail TitleClean  \\\n",
       "13  https://thumbs4.properati.com/5/UvWlBF2qAapN1p...        NaN   \n",
       "24  https://thumbs4.properati.com/2/ufRxXZ9qkWC7ma...        NaN   \n",
       "\n",
       "   DescriptionClean Title_m2  SinUSD  SinUSS  Sin_m2  id  price_usd_m2_filled  \\\n",
       "13              NaN      NaN     NaN     NaN     NaN  13           875.000000   \n",
       "24              NaN      NaN     NaN     NaN     NaN  24          2317.076969   \n",
       "\n",
       "    price_m2_filled  mts2_completar  lat_filled  lon_filled  \\\n",
       "13      1400.000000       80.000000  -34.617719  -58.362056   \n",
       "24     16304.485007       34.462386  -34.624750  -58.379148   \n",
       "\n",
       "                                     geometry  distancia_obelisco  \\\n",
       "13            POINT (-58.3620561 -34.6177194)         2287.930560   \n",
       "24  POINT (-58.37914824489999 -34.6247504837)         1161.974369   \n",
       "\n",
       "    surface_total_in_m2_2  \n",
       "13             160.000000  \n",
       "24              68.924771  "
      ]
     },
     "execution_count": 26,
     "metadata": {},
     "output_type": "execute_result"
    }
   ],
   "source": [
    "data_c1.head(2)"
   ]
  },
  {
   "cell_type": "code",
   "execution_count": 27,
   "id": "00a0550e",
   "metadata": {},
   "outputs": [],
   "source": [
    "data_c1['surface_total_in_m2_2'] = 2 * data_c1.surface_total_in_m2\n",
    "\n",
    "feature_cols = ['surface_total_in_m2', 'distancia_obelisco', 'surface_total_in_m2_2' ]\n",
    "\n",
    "X = data_c1[feature_cols]\n",
    "\n",
    "scaler = StandardScaler()\n",
    "\n",
    "X_std = scaler.fit_transform(X)\n",
    "\n",
    "y = data_c1.price_aprox_usd\n"
   ]
  },
  {
   "cell_type": "code",
   "execution_count": 28,
   "id": "53c2e063",
   "metadata": {},
   "outputs": [
    {
     "name": "stdout",
     "output_type": "stream",
     "text": [
      "10.0\n",
      "0.5290124091089752\n"
     ]
    }
   ],
   "source": [
    "X_train, X_test, y_train, y_test = train_test_split(X_std, y, test_size = 0.3, random_state = 117)\n",
    "\n",
    "model_ridge_cv = linear_model.RidgeCV(alphas= [0.3, 0.5, 1.0, 1.1, 1.15, 1.17, 1.18, 1.19, 1.2, 1.21, 1.22, 1.3, 1.4, 1.5, 10.0], \n",
    "                                   fit_intercept=True, normalize=False, cv=10)\n",
    "\n",
    "model_fit_ridge_cv = model_ridge_cv.fit(X_train, y_train)\n",
    "\n",
    "print(model_fit_ridge_cv.alpha_)\n",
    "print(model_fit_ridge_cv.best_score_)\n"
   ]
  },
  {
   "cell_type": "code",
   "execution_count": 29,
   "id": "a96b4876",
   "metadata": {},
   "outputs": [
    {
     "name": "stdout",
     "output_type": "stream",
     "text": [
      "[158467.07210102 100022.15937712 158467.07210101]\n",
      "305257.96303278836\n",
      "0.5892540598344154\n"
     ]
    }
   ],
   "source": [
    "best_alpha = model_fit_ridge_cv.alpha_\n",
    "model_ridge = linear_model.Ridge(alpha = best_alpha, fit_intercept = True, normalize = False)\n",
    "model_fit_ridge = model_ridge.fit(X_train, y_train)\n",
    "print(model_fit_ridge.coef_)\n",
    "print(model_fit_ridge.intercept_)\n",
    "print(model_fit_ridge.score(X_train, y_train))"
   ]
  },
  {
   "cell_type": "code",
   "execution_count": 30,
   "id": "9b87d6fc",
   "metadata": {},
   "outputs": [
    {
     "data": {
      "text/plain": [
       "0.514538926146476"
      ]
     },
     "execution_count": 30,
     "metadata": {},
     "output_type": "execute_result"
    }
   ],
   "source": [
    "model_fit_ridge.score(X_test, y_test)"
   ]
  },
  {
   "cell_type": "markdown",
   "id": "d3cd7119",
   "metadata": {},
   "source": [
    "## Modelo Lasso Con Tres Features\n"
   ]
  },
  {
   "cell_type": "code",
   "execution_count": 32,
   "id": "3db75894",
   "metadata": {},
   "outputs": [
    {
     "name": "stdout",
     "output_type": "stream",
     "text": [
      "0.3\n",
      "0.5892581755118205\n"
     ]
    }
   ],
   "source": [
    "model_lasso_cv = linear_model.LassoCV(alphas= [0.05, 0.06, 0.07, 0.08, 0.09, 0.95, 0.97, 0.1, 0.12, 0.15, 0.2, 0.3, 1.0, 10.0], \n",
    "                                   fit_intercept=True, normalize=False, cv=10, max_iter=1e4)\n",
    "\n",
    "model_fit_lasso_cv = model_lasso_cv.fit(X_train, y_train)\n",
    "\n",
    "print(model_fit_lasso_cv.alpha_)\n",
    "\n",
    "print(model_fit_lasso_cv.score(X_train, y_train))"
   ]
  },
  {
   "cell_type": "code",
   "execution_count": 33,
   "id": "1e5ccd9c",
   "metadata": {},
   "outputs": [
    {
     "name": "stdout",
     "output_type": "stream",
     "text": [
      "[345489.68749828 100329.42836224 -27741.03948671]\n",
      "305263.13562713104\n",
      "0.5141575690138557\n"
     ]
    }
   ],
   "source": [
    "best_alpha = model_fit_lasso_cv.alpha_\n",
    "model_lasso = linear_model.Lasso(alpha = best_alpha, fit_intercept = True, normalize = False)\n",
    "model_fit_lasso = model_lasso.fit(X_train, y_train)\n",
    "print(model_fit_lasso.coef_)\n",
    "print(model_fit_lasso.intercept_)\n",
    "print(model_fit_lasso.score(X_test, y_test))"
   ]
  },
  {
   "cell_type": "markdown",
   "id": "35df04ce-e52e-4528-8420-8dff80ac687e",
   "metadata": {},
   "source": [
    "## Ridge Polinomica\n"
   ]
  },
  {
   "cell_type": "code",
   "execution_count": 35,
   "id": "b4816cb1-68ab-48d2-8a06-e07fb730566a",
   "metadata": {},
   "outputs": [],
   "source": [
    "data_c1[\"surface_total_in_m2_3\"] = data_c1.surface_total_in_m2 * data_c1.surface_total_in_m2_2\n",
    "data_c1[\"surface_total_in_m2_4\"] = data_c1.surface_total_in_m2 * data_c1.surface_total_in_m2_3\n",
    "data_c1[\"surface_total_in_m2_5\"] = data_c1.surface_total_in_m2 * data_c1.surface_total_in_m2_4"
   ]
  },
  {
   "cell_type": "code",
   "execution_count": 36,
   "id": "b649c607-cc72-4fe6-8056-2b9e735c83ca",
   "metadata": {},
   "outputs": [],
   "source": [
    "feature_cols = ['surface_total_in_m2', 'surface_total_in_m2_2', 'surface_total_in_m2_3', 'surface_total_in_m2_4', 'surface_total_in_m2_5' ]\n",
    "\n",
    "X2 = data_c1[feature_cols]\n",
    "\n",
    "scaler = StandardScaler()\n",
    "\n",
    "X_std2 = scaler.fit_transform(X)\n",
    "\n",
    "y2 = data_c1.price_aprox_usd"
   ]
  },
  {
   "cell_type": "code",
   "execution_count": 37,
   "id": "e2da08fa-cc58-4e61-931f-6f1501fa3c93",
   "metadata": {},
   "outputs": [
    {
     "name": "stdout",
     "output_type": "stream",
     "text": [
      "10.0\n",
      "0.5290124091089752\n"
     ]
    }
   ],
   "source": [
    "X_train2, X_test2, y_train2, y_test2 = train_test_split(X_std2, y2, test_size = 0.3, random_state = 117)\n",
    "\n",
    "model_ridge_cv = linear_model.RidgeCV(alphas= [0.3, 0.5, 1.0, 1.1, 1.15, 1.17, 1.18, 1.19, 1.2, 1.21, 1.22, 1.3, 1.4, 1.5, 10.0], \n",
    "                                   fit_intercept=True, normalize=False, cv=10)\n",
    "\n",
    "model_fit_ridge_cv = model_ridge_cv.fit(X_train2, y_train2)\n",
    "\n",
    "print(model_fit_ridge_cv.alpha_)\n",
    "print(model_fit_ridge_cv.best_score_)\n"
   ]
  },
  {
   "cell_type": "code",
   "execution_count": 38,
   "id": "5daa566a-4487-441f-9529-932fcd67d8ff",
   "metadata": {},
   "outputs": [
    {
     "name": "stdout",
     "output_type": "stream",
     "text": [
      "[158467.07210102 100022.15937712 158467.07210101]\n",
      "305257.96303278836\n",
      "0.5892540598344154\n"
     ]
    }
   ],
   "source": [
    "best_alpha = model_fit_ridge_cv.alpha_\n",
    "model_ridge = linear_model.Ridge(alpha = best_alpha, fit_intercept = True, normalize = False)\n",
    "model_fit_ridge = model_ridge.fit(X_train2, y_train2)\n",
    "print(model_fit_ridge.coef_)\n",
    "print(model_fit_ridge.intercept_)\n",
    "print(model_fit_ridge.score(X_train2, y_train2))"
   ]
  },
  {
   "cell_type": "code",
   "execution_count": 39,
   "id": "60aaf475-c5f1-4ba7-96a3-cd6753d55013",
   "metadata": {},
   "outputs": [
    {
     "data": {
      "text/plain": [
       "0.514538926146476"
      ]
     },
     "execution_count": 39,
     "metadata": {},
     "output_type": "execute_result"
    }
   ],
   "source": [
    "model_fit_ridge.score(X_test2, y_test2)"
   ]
  },
  {
   "cell_type": "code",
   "execution_count": null,
   "id": "a19299f2-3ead-4557-aaac-d5558d8c1cf6",
   "metadata": {},
   "outputs": [],
   "source": []
  }
 ],
 "metadata": {
  "kernelspec": {
   "display_name": "Python 3 (ipykernel)",
   "language": "python",
   "name": "python3"
  },
  "language_info": {
   "codemirror_mode": {
    "name": "ipython",
    "version": 3
   },
   "file_extension": ".py",
   "mimetype": "text/x-python",
   "name": "python",
   "nbconvert_exporter": "python",
   "pygments_lexer": "ipython3",
   "version": "3.9.7"
  }
 },
 "nbformat": 4,
 "nbformat_minor": 5
}
